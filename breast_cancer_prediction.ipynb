{
 "cells": [
  {
   "cell_type": "code",
   "execution_count": 1,
   "metadata": {
    "collapsed": false
   },
   "outputs": [
    {
     "name": "stderr",
     "output_type": "stream",
     "text": [
      "Using TensorFlow backend.\n"
     ]
    }
   ],
   "source": [
    "import sys\n",
    "import os\n",
    "import pandas as pd\n",
    "import numpy as np\n",
    "import matplotlib.pyplot as plt\n",
    "import sklearn\n",
    "import sklearn.preprocessing\n",
    "import sklearn.model_selection\n",
    "from sklearn.linear_model import LogisticRegression\n",
    "from sklearn.ensemble import RandomForestClassifier, GradientBoostingClassifier\n",
    "import tensorflow as tf\n",
    "import keras\n",
    "from keras.models import Sequential\n",
    "from keras.layers import Dense, Dropout, Activation, Flatten\n",
    "from keras.utils import np_utils"
   ]
  },
  {
   "cell_type": "code",
   "execution_count": 2,
   "metadata": {
    "collapsed": true
   },
   "outputs": [],
   "source": [
    "os.chdir('Downloads')"
   ]
  },
  {
   "cell_type": "code",
   "execution_count": 3,
   "metadata": {
    "collapsed": true
   },
   "outputs": [],
   "source": [
    "#download the data\n",
    "cancer_data=pd.read_csv('breast-cancer-wisconsin.data', header=-1)"
   ]
  },
  {
   "cell_type": "code",
   "execution_count": 4,
   "metadata": {
    "collapsed": true
   },
   "outputs": [],
   "source": [
    "cancer_data.columns=['Sample ID', 'Clump thickness', 'Cell size uniformity', 'Cell shape uniformity', 'Marginal adhesion', \\\n",
    "                    'Single epithelial cell size', 'Bare nuclei', 'Bland Chromatin', 'Normal nucleoli', \\\n",
    "                    'Mitoses', 'Class']"
   ]
  },
  {
   "cell_type": "code",
   "execution_count": 5,
   "metadata": {
    "collapsed": false
   },
   "outputs": [
    {
     "name": "stderr",
     "output_type": "stream",
     "text": [
      "/home/nick/anaconda3/lib/python3.6/site-packages/ipykernel/__main__.py:3: SettingWithCopyWarning: \n",
      "A value is trying to be set on a copy of a slice from a DataFrame\n",
      "\n",
      "See the caveats in the documentation: http://pandas.pydata.org/pandas-docs/stable/indexing.html#indexing-view-versus-copy\n",
      "  app.launch_new_instance()\n",
      "/home/nick/anaconda3/lib/python3.6/site-packages/ipykernel/__main__.py:5: SettingWithCopyWarning: \n",
      "A value is trying to be set on a copy of a slice from a DataFrame\n",
      "\n",
      "See the caveats in the documentation: http://pandas.pydata.org/pandas-docs/stable/indexing.html#indexing-view-versus-copy\n"
     ]
    }
   ],
   "source": [
    "#Redo classification vector with 0 and 1 instead of 2 and 4\n",
    "for i in range(0, len(cancer_data)):\n",
    "    if cancer_data['Class'][i]==2:\n",
    "        cancer_data['Class'][i]=0\n",
    "    elif cancer_data['Class'][i]==4:\n",
    "        cancer_data['Class'][i]=1"
   ]
  },
  {
   "cell_type": "code",
   "execution_count": 12,
   "metadata": {
    "collapsed": true
   },
   "outputs": [],
   "source": [
    "#remove rows where Bare nuclei did not have a value (there were only 16, so we shouldn't lose significance)\n",
    "clean_cancer_data=cancer_data[cancer_data['Bare nuclei']!='?']"
   ]
  },
  {
   "cell_type": "code",
   "execution_count": 19,
   "metadata": {
    "collapsed": false
   },
   "outputs": [
    {
     "name": "stdout",
     "output_type": "stream",
     "text": [
      "[0.043795620437956206, 0.058394160583941604, 0.014598540145985401, 0.014705882352941176, 0.051470588235294115]\n",
      "0.0365929583512\n",
      "Logistic Classification Feature Weights\n",
      "0.255687850076 Clump thickness\n",
      "0.213340276061 Cell size uniformity\n",
      "0.243841332718 Cell shape uniformity\n",
      "0.194585582316 Marginal adhesion\n",
      "-0.0184962784915 Single epithelial cell size\n",
      "0.359224106889 Bare nuclei\n",
      "0.092505247025 Bland Chromatin\n",
      "0.134712817806 Normal nucleoli\n",
      "0.235918351653 Mitoses\n"
     ]
    }
   ],
   "source": [
    "#start with simple logistic regression. Note that I am splitting the data into five cross-validation groups \n",
    "#and averaging the error.\n",
    "\n",
    "model=LogisticRegression()\n",
    "#model=RandomForestClassifier(n_estimators=50, oob_score=True)\n",
    "#model=GradientBoostingClassifier(learning_rate=.05)\n",
    "\n",
    "col_names=['Clump thickness', 'Cell size uniformity', 'Cell shape uniformity', 'Marginal adhesion', \\\n",
    "                    'Single epithelial cell size', 'Bare nuclei', 'Bland Chromatin', 'Normal nucleoli', \\\n",
    "                    'Mitoses']\n",
    "\n",
    "mean_error=[]\n",
    "total_error=[]\n",
    "mean_values=[]\n",
    "\n",
    "temp=list(range(5))\n",
    "for i in list(range(5)):\n",
    "    temp=list(range(5))\n",
    "    temp.remove(i)\n",
    "    test=clean_cancer_data[i::5]\n",
    "    training_setup=[clean_cancer_data[temp[0]::5], clean_cancer_data[temp[1]::5], clean_cancer_data[temp[2]::5], \\\n",
    "                    clean_cancer_data[temp[3]::5]]\n",
    "    training=pd.concat(training_setup)\n",
    "\n",
    "    fit=model.fit(training[col_names], training['Class'])\n",
    "    lr_prediction=fit.predict(test[col_names])\n",
    "    \n",
    "    mean_error.append(np.mean(np.abs(lr_prediction-test['Class'])))\n",
    "    \n",
    "    total_error.append(np.abs(lr_prediction-test['Class']))\n",
    "    \n",
    "    mean_values.append(np.mean(np.abs(test['Class'])))\n",
    "    \n",
    "print(mean_error)\n",
    "print(np.mean(mean_error))\n",
    "print('Logistic Classification Feature Weights')\n",
    "for i in range(0, len(test[col_names].keys())): print(fit.coef_[0][i], test[col_names].keys()[i])\n",
    "#for i in range(0, len(test[col_names].keys())): print(fit.feature_importances_[i], test[col_names].keys()[i])"
   ]
  },
  {
   "cell_type": "code",
   "execution_count": 20,
   "metadata": {
    "collapsed": false
   },
   "outputs": [
    {
     "name": "stdout",
     "output_type": "stream",
     "text": [
      "[0.043795620437956206, 0.058394160583941604, 0.014598540145985401, 0.014705882352941176, 0.029411764705882353]\n",
      "0.0321811936453\n",
      "Logistic Classification Feature Weights\n",
      "0.0582120007831 Clump thickness\n",
      "0.209137736078 Cell size uniformity\n",
      "0.316109193411 Cell shape uniformity\n",
      "0.0213042406621 Marginal adhesion\n",
      "0.0781202003116 Single epithelial cell size\n",
      "0.16538405183 Bare nuclei\n",
      "0.094023405367 Bland Chromatin\n",
      "0.0492686024539 Normal nucleoli\n",
      "0.00844056910249 Mitoses\n"
     ]
    }
   ],
   "source": [
    "#Not bad, 3.7% error, let's try the random forest next\n",
    "\n",
    "#model=LogisticRegression()\n",
    "model=RandomForestClassifier(n_estimators=50, oob_score=True)\n",
    "#model=GradientBoostingClassifier(learning_rate=.05)\n",
    "\n",
    "col_names=['Clump thickness', 'Cell size uniformity', 'Cell shape uniformity', 'Marginal adhesion', \\\n",
    "                    'Single epithelial cell size', 'Bare nuclei', 'Bland Chromatin', 'Normal nucleoli', \\\n",
    "                    'Mitoses']\n",
    "\n",
    "mean_error=[]\n",
    "total_error=[]\n",
    "mean_values=[]\n",
    "\n",
    "temp=list(range(5))\n",
    "for i in list(range(5)):\n",
    "    temp=list(range(5))\n",
    "    temp.remove(i)\n",
    "    test=clean_cancer_data[i::5]\n",
    "    training_setup=[clean_cancer_data[temp[0]::5], clean_cancer_data[temp[1]::5], clean_cancer_data[temp[2]::5], \\\n",
    "                    clean_cancer_data[temp[3]::5]]\n",
    "    training=pd.concat(training_setup)\n",
    "\n",
    "    fit=model.fit(training[col_names], training['Class'])\n",
    "    lr_prediction=fit.predict(test[col_names])\n",
    "    \n",
    "    mean_error.append(np.mean(np.abs(lr_prediction-test['Class'])))\n",
    "    \n",
    "    total_error.append(np.abs(lr_prediction-test['Class']))\n",
    "    \n",
    "    mean_values.append(np.mean(np.abs(test['Class'])))\n",
    "    \n",
    "print(mean_error)\n",
    "print(np.mean(mean_error))\n",
    "print('Logistic Classification Feature Weights')\n",
    "#for i in range(0, len(test[col_names].keys())): print(fit.coef_[0][i], test[col_names].keys()[i])\n",
    "for i in range(0, len(test[col_names].keys())): print(fit.feature_importances_[i], test[col_names].keys()[i])"
   ]
  },
  {
   "cell_type": "code",
   "execution_count": 22,
   "metadata": {
    "collapsed": false
   },
   "outputs": [
    {
     "name": "stdout",
     "output_type": "stream",
     "text": [
      "[0.0364963503649635, 0.051094890510948905, 0.021897810218978103, 0.014705882352941176, 0.03676470588235294]\n",
      "0.032191927866\n",
      "Logistic Classification Feature Weights\n",
      "0.125751359962 Clump thickness\n",
      "0.117819994702 Cell size uniformity\n",
      "0.181630859326 Cell shape uniformity\n",
      "0.0792172011904 Marginal adhesion\n",
      "0.134183642204 Single epithelial cell size\n",
      "0.146946889223 Bare nuclei\n",
      "0.0519912955783 Bland Chromatin\n",
      "0.125562648131 Normal nucleoli\n",
      "0.0368961096834 Mitoses\n"
     ]
    }
   ],
   "source": [
    "#Better, 3.2% error. Finally, let's try a gradient boosted tree\n",
    "\n",
    "#model=LogisticRegression()\n",
    "#model=RandomForestClassifier(n_estimators=50, oob_score=True)\n",
    "model=GradientBoostingClassifier()\n",
    "\n",
    "col_names=['Clump thickness', 'Cell size uniformity', 'Cell shape uniformity', 'Marginal adhesion', \\\n",
    "                    'Single epithelial cell size', 'Bare nuclei', 'Bland Chromatin', 'Normal nucleoli', \\\n",
    "                    'Mitoses']\n",
    "\n",
    "mean_error=[]\n",
    "total_error=[]\n",
    "mean_values=[]\n",
    "\n",
    "temp=list(range(5))\n",
    "for i in list(range(5)):\n",
    "    temp=list(range(5))\n",
    "    temp.remove(i)\n",
    "    test=clean_cancer_data[i::5]\n",
    "    training_setup=[clean_cancer_data[temp[0]::5], clean_cancer_data[temp[1]::5], clean_cancer_data[temp[2]::5], \\\n",
    "                    clean_cancer_data[temp[3]::5]]\n",
    "    training=pd.concat(training_setup)\n",
    "\n",
    "    fit=model.fit(training[col_names], training['Class'])\n",
    "    lr_prediction=fit.predict(test[col_names])\n",
    "    \n",
    "    mean_error.append(np.mean(np.abs(lr_prediction-test['Class'])))\n",
    "    \n",
    "    total_error.append(np.abs(lr_prediction-test['Class']))\n",
    "    \n",
    "    mean_values.append(np.mean(np.abs(test['Class'])))\n",
    "    \n",
    "print(mean_error)\n",
    "print(np.mean(mean_error))\n",
    "print('Logistic Classification Feature Weights')\n",
    "#for i in range(0, len(test[col_names].keys())): print(fit.coef_[0][i], test[col_names].keys()[i])\n",
    "for i in range(0, len(test[col_names].keys())): print(fit.feature_importances_[i], test[col_names].keys()[i])"
   ]
  },
  {
   "cell_type": "code",
   "execution_count": 24,
   "metadata": {
    "collapsed": false
   },
   "outputs": [
    {
     "name": "stdout",
     "output_type": "stream",
     "text": [
      "[0.07003184626674293, 0.07509545638692483, 0.04541440381087281, 0.06067088310031549, 0.07541061020524734]\n",
      "0.065324639954\n"
     ]
    }
   ],
   "source": [
    "#Pretty much identical. Let's see what a neural net can do.\n",
    "\n",
    "mean_error=[]\n",
    "total_error=[]\n",
    "mean_values=[]\n",
    "\n",
    "col_names=['Clump thickness', 'Cell size uniformity', 'Cell shape uniformity', 'Marginal adhesion', \\\n",
    "          'Single epithelial cell size', 'Bland Chromatin', 'Normal nucleoli', \\\n",
    "                    'Mitoses']\n",
    "\n",
    "batches=30\n",
    "\n",
    "temp=list(range(5))\n",
    "for i in list(range(5)):\n",
    "    temp=list(range(5))\n",
    "    temp.remove(i)\n",
    "    test=clean_cancer_data[i::5]\n",
    "    training_setup=[clean_cancer_data[temp[0]::5], clean_cancer_data[temp[1]::5], clean_cancer_data[temp[2]::5], \\\n",
    "                    clean_cancer_data[temp[3]::5]]\n",
    "    training=pd.concat(training_setup)\n",
    "\n",
    "    model=Sequential()\n",
    "    s='relu'\n",
    "    model.add(Dense(40, activation=s, input_dim=len(col_names)))\n",
    "    model.add(Dropout(.1))\n",
    "    model.add(Dense(40, activation=s))\n",
    "    model.add(Dropout(.1))\n",
    "    model.add(Dense(1, activation='sigmoid'))\n",
    "    #keras.optimizers.RMSprop(lr=.001, rho=0.9, epsilon=1e-08, decay=0.0)\n",
    "    model.compile(loss='binary_crossentropy', optimizer='adam', metrics=['accuracy'])\n",
    "\n",
    "    model.fit(training[col_names].values, training['Class'].values, batch_size=batches, epochs=50, verbose=0)\n",
    "    \n",
    "    nn_prediction=model.predict(test[col_names].values)\n",
    "    nn_prediction=np.ndarray.tolist(nn_prediction)\n",
    "    nn_prediction=[float(nn_prediction[i][0]) for i in range(len(nn_prediction))]\n",
    "    \n",
    "    mean_error.append(np.mean(np.abs(nn_prediction-test['Class'])))\n",
    "    \n",
    "    total_error.append(np.abs(nn_prediction-test['Class']))\n",
    "    \n",
    "    mean_values.append(np.mean(np.abs(test['Class'])))\n",
    "\n",
    "print(mean_error)\n",
    "print(np.mean(mean_error))\n"
   ]
  },
  {
   "cell_type": "code",
   "execution_count": null,
   "metadata": {
    "collapsed": true
   },
   "outputs": [],
   "source": [
    "#Average error of 6.5%, so the decision tree wins!"
   ]
  },
  {
   "cell_type": "code",
   "execution_count": null,
   "metadata": {
    "collapsed": true
   },
   "outputs": [],
   "source": []
  }
 ],
 "metadata": {
  "kernelspec": {
   "display_name": "Python 3",
   "language": "python",
   "name": "python3"
  },
  "language_info": {
   "codemirror_mode": {
    "name": "ipython",
    "version": 3
   },
   "file_extension": ".py",
   "mimetype": "text/x-python",
   "name": "python",
   "nbconvert_exporter": "python",
   "pygments_lexer": "ipython3",
   "version": "3.6.0"
  }
 },
 "nbformat": 4,
 "nbformat_minor": 2
}
